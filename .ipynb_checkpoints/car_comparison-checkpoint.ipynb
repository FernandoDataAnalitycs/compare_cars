{
 "cells": [
  {
   "cell_type": "code",
   "execution_count": 174,
   "id": "eb83243a",
   "metadata": {},
   "outputs": [],
   "source": [
    "import pandas as pd\n",
    "import numpy as np\n",
    "import matplotlib.pyplot as plt"
   ]
  },
  {
   "cell_type": "code",
   "execution_count": 175,
   "id": "6e511c2c",
   "metadata": {},
   "outputs": [],
   "source": [
    "#car_df = pd.read_csv('TEM03_vehicles_reg_first_time.csv') vehicle_registration_canada"
   ]
  },
  {
   "cell_type": "code",
   "execution_count": 189,
   "id": "ab3bedcd",
   "metadata": {},
   "outputs": [],
   "source": [
    "canada_df = pd.read_csv('THA19_vehicles_road_traffic.csv')# vehicle_registration_ireland"
   ]
  },
  {
   "cell_type": "code",
   "execution_count": 190,
   "id": "96424857",
   "metadata": {
    "scrolled": true
   },
   "outputs": [
    {
     "data": {
      "text/html": [
       "<div>\n",
       "<style scoped>\n",
       "    .dataframe tbody tr th:only-of-type {\n",
       "        vertical-align: middle;\n",
       "    }\n",
       "\n",
       "    .dataframe tbody tr th {\n",
       "        vertical-align: top;\n",
       "    }\n",
       "\n",
       "    .dataframe thead th {\n",
       "        text-align: right;\n",
       "    }\n",
       "</style>\n",
       "<table border=\"1\" class=\"dataframe\">\n",
       "  <thead>\n",
       "    <tr style=\"text-align: right;\">\n",
       "      <th></th>\n",
       "      <th>STATISTIC</th>\n",
       "      <th>Statistic Label</th>\n",
       "      <th>TLIST(A1)</th>\n",
       "      <th>Year</th>\n",
       "      <th>C03788V04538</th>\n",
       "      <th>County of Ownership</th>\n",
       "      <th>C02662V03464</th>\n",
       "      <th>Unladen Weight</th>\n",
       "      <th>C01936V02368</th>\n",
       "      <th>Year of Registration</th>\n",
       "      <th>UNIT</th>\n",
       "      <th>VALUE</th>\n",
       "    </tr>\n",
       "  </thead>\n",
       "  <tbody>\n",
       "    <tr>\n",
       "      <th>113390</th>\n",
       "      <td>THA19C03</td>\n",
       "      <td>Average Kilometres Travelled</td>\n",
       "      <td>2022</td>\n",
       "      <td>2022</td>\n",
       "      <td>2ae19629-1445-13a3-e055-000000000001</td>\n",
       "      <td>Co. Monaghan</td>\n",
       "      <td>6</td>\n",
       "      <td>Over 12.5 tonnes</td>\n",
       "      <td>2013</td>\n",
       "      <td>2013</td>\n",
       "      <td>Kilometres</td>\n",
       "      <td>62760.0</td>\n",
       "    </tr>\n",
       "    <tr>\n",
       "      <th>113391</th>\n",
       "      <td>THA19C03</td>\n",
       "      <td>Average Kilometres Travelled</td>\n",
       "      <td>2022</td>\n",
       "      <td>2022</td>\n",
       "      <td>2ae19629-1445-13a3-e055-000000000001</td>\n",
       "      <td>Co. Monaghan</td>\n",
       "      <td>6</td>\n",
       "      <td>Over 12.5 tonnes</td>\n",
       "      <td>2014</td>\n",
       "      <td>2014</td>\n",
       "      <td>Kilometres</td>\n",
       "      <td>64765.0</td>\n",
       "    </tr>\n",
       "    <tr>\n",
       "      <th>113392</th>\n",
       "      <td>THA19C03</td>\n",
       "      <td>Average Kilometres Travelled</td>\n",
       "      <td>2022</td>\n",
       "      <td>2022</td>\n",
       "      <td>2ae19629-1445-13a3-e055-000000000001</td>\n",
       "      <td>Co. Monaghan</td>\n",
       "      <td>6</td>\n",
       "      <td>Over 12.5 tonnes</td>\n",
       "      <td>2015</td>\n",
       "      <td>2015</td>\n",
       "      <td>Kilometres</td>\n",
       "      <td>61074.0</td>\n",
       "    </tr>\n",
       "    <tr>\n",
       "      <th>113393</th>\n",
       "      <td>THA19C03</td>\n",
       "      <td>Average Kilometres Travelled</td>\n",
       "      <td>2022</td>\n",
       "      <td>2022</td>\n",
       "      <td>2ae19629-1445-13a3-e055-000000000001</td>\n",
       "      <td>Co. Monaghan</td>\n",
       "      <td>6</td>\n",
       "      <td>Over 12.5 tonnes</td>\n",
       "      <td>2016</td>\n",
       "      <td>2016</td>\n",
       "      <td>Kilometres</td>\n",
       "      <td>60419.0</td>\n",
       "    </tr>\n",
       "    <tr>\n",
       "      <th>113394</th>\n",
       "      <td>THA19C03</td>\n",
       "      <td>Average Kilometres Travelled</td>\n",
       "      <td>2022</td>\n",
       "      <td>2022</td>\n",
       "      <td>2ae19629-1445-13a3-e055-000000000001</td>\n",
       "      <td>Co. Monaghan</td>\n",
       "      <td>6</td>\n",
       "      <td>Over 12.5 tonnes</td>\n",
       "      <td>2017</td>\n",
       "      <td>2017</td>\n",
       "      <td>Kilometres</td>\n",
       "      <td>60654.0</td>\n",
       "    </tr>\n",
       "    <tr>\n",
       "      <th>113395</th>\n",
       "      <td>THA19C03</td>\n",
       "      <td>Average Kilometres Travelled</td>\n",
       "      <td>2022</td>\n",
       "      <td>2022</td>\n",
       "      <td>2ae19629-1445-13a3-e055-000000000001</td>\n",
       "      <td>Co. Monaghan</td>\n",
       "      <td>6</td>\n",
       "      <td>Over 12.5 tonnes</td>\n",
       "      <td>2018</td>\n",
       "      <td>2018</td>\n",
       "      <td>Kilometres</td>\n",
       "      <td>61770.0</td>\n",
       "    </tr>\n",
       "    <tr>\n",
       "      <th>113396</th>\n",
       "      <td>THA19C03</td>\n",
       "      <td>Average Kilometres Travelled</td>\n",
       "      <td>2022</td>\n",
       "      <td>2022</td>\n",
       "      <td>2ae19629-1445-13a3-e055-000000000001</td>\n",
       "      <td>Co. Monaghan</td>\n",
       "      <td>6</td>\n",
       "      <td>Over 12.5 tonnes</td>\n",
       "      <td>2019</td>\n",
       "      <td>2019</td>\n",
       "      <td>Kilometres</td>\n",
       "      <td>65642.0</td>\n",
       "    </tr>\n",
       "    <tr>\n",
       "      <th>113397</th>\n",
       "      <td>THA19C03</td>\n",
       "      <td>Average Kilometres Travelled</td>\n",
       "      <td>2022</td>\n",
       "      <td>2022</td>\n",
       "      <td>2ae19629-1445-13a3-e055-000000000001</td>\n",
       "      <td>Co. Monaghan</td>\n",
       "      <td>6</td>\n",
       "      <td>Over 12.5 tonnes</td>\n",
       "      <td>2020</td>\n",
       "      <td>2020</td>\n",
       "      <td>Kilometres</td>\n",
       "      <td>62422.0</td>\n",
       "    </tr>\n",
       "    <tr>\n",
       "      <th>113398</th>\n",
       "      <td>THA19C03</td>\n",
       "      <td>Average Kilometres Travelled</td>\n",
       "      <td>2022</td>\n",
       "      <td>2022</td>\n",
       "      <td>2ae19629-1445-13a3-e055-000000000001</td>\n",
       "      <td>Co. Monaghan</td>\n",
       "      <td>6</td>\n",
       "      <td>Over 12.5 tonnes</td>\n",
       "      <td>2021</td>\n",
       "      <td>2021</td>\n",
       "      <td>Kilometres</td>\n",
       "      <td>62075.0</td>\n",
       "    </tr>\n",
       "    <tr>\n",
       "      <th>113399</th>\n",
       "      <td>THA19C03</td>\n",
       "      <td>Average Kilometres Travelled</td>\n",
       "      <td>2022</td>\n",
       "      <td>2022</td>\n",
       "      <td>2ae19629-1445-13a3-e055-000000000001</td>\n",
       "      <td>Co. Monaghan</td>\n",
       "      <td>6</td>\n",
       "      <td>Over 12.5 tonnes</td>\n",
       "      <td>2022</td>\n",
       "      <td>2022</td>\n",
       "      <td>Kilometres</td>\n",
       "      <td>63454.0</td>\n",
       "    </tr>\n",
       "  </tbody>\n",
       "</table>\n",
       "</div>"
      ],
      "text/plain": [
       "       STATISTIC               Statistic Label  TLIST(A1)  Year  \\\n",
       "113390  THA19C03  Average Kilometres Travelled       2022  2022   \n",
       "113391  THA19C03  Average Kilometres Travelled       2022  2022   \n",
       "113392  THA19C03  Average Kilometres Travelled       2022  2022   \n",
       "113393  THA19C03  Average Kilometres Travelled       2022  2022   \n",
       "113394  THA19C03  Average Kilometres Travelled       2022  2022   \n",
       "113395  THA19C03  Average Kilometres Travelled       2022  2022   \n",
       "113396  THA19C03  Average Kilometres Travelled       2022  2022   \n",
       "113397  THA19C03  Average Kilometres Travelled       2022  2022   \n",
       "113398  THA19C03  Average Kilometres Travelled       2022  2022   \n",
       "113399  THA19C03  Average Kilometres Travelled       2022  2022   \n",
       "\n",
       "                                C03788V04538 County of Ownership C02662V03464  \\\n",
       "113390  2ae19629-1445-13a3-e055-000000000001        Co. Monaghan            6   \n",
       "113391  2ae19629-1445-13a3-e055-000000000001        Co. Monaghan            6   \n",
       "113392  2ae19629-1445-13a3-e055-000000000001        Co. Monaghan            6   \n",
       "113393  2ae19629-1445-13a3-e055-000000000001        Co. Monaghan            6   \n",
       "113394  2ae19629-1445-13a3-e055-000000000001        Co. Monaghan            6   \n",
       "113395  2ae19629-1445-13a3-e055-000000000001        Co. Monaghan            6   \n",
       "113396  2ae19629-1445-13a3-e055-000000000001        Co. Monaghan            6   \n",
       "113397  2ae19629-1445-13a3-e055-000000000001        Co. Monaghan            6   \n",
       "113398  2ae19629-1445-13a3-e055-000000000001        Co. Monaghan            6   \n",
       "113399  2ae19629-1445-13a3-e055-000000000001        Co. Monaghan            6   \n",
       "\n",
       "          Unladen Weight C01936V02368 Year of Registration        UNIT  \\\n",
       "113390  Over 12.5 tonnes         2013                 2013  Kilometres   \n",
       "113391  Over 12.5 tonnes         2014                 2014  Kilometres   \n",
       "113392  Over 12.5 tonnes         2015                 2015  Kilometres   \n",
       "113393  Over 12.5 tonnes         2016                 2016  Kilometres   \n",
       "113394  Over 12.5 tonnes         2017                 2017  Kilometres   \n",
       "113395  Over 12.5 tonnes         2018                 2018  Kilometres   \n",
       "113396  Over 12.5 tonnes         2019                 2019  Kilometres   \n",
       "113397  Over 12.5 tonnes         2020                 2020  Kilometres   \n",
       "113398  Over 12.5 tonnes         2021                 2021  Kilometres   \n",
       "113399  Over 12.5 tonnes         2022                 2022  Kilometres   \n",
       "\n",
       "          VALUE  \n",
       "113390  62760.0  \n",
       "113391  64765.0  \n",
       "113392  61074.0  \n",
       "113393  60419.0  \n",
       "113394  60654.0  \n",
       "113395  61770.0  \n",
       "113396  65642.0  \n",
       "113397  62422.0  \n",
       "113398  62075.0  \n",
       "113399  63454.0  "
      ]
     },
     "execution_count": 190,
     "metadata": {},
     "output_type": "execute_result"
    }
   ],
   "source": [
    "canada_df.tail(10)"
   ]
  },
  {
   "cell_type": "code",
   "execution_count": 191,
   "id": "28f56d5f",
   "metadata": {},
   "outputs": [
    {
     "data": {
      "text/plain": [
       "(113400, 12)"
      ]
     },
     "execution_count": 191,
     "metadata": {},
     "output_type": "execute_result"
    }
   ],
   "source": [
    "canada_df.shape"
   ]
  },
  {
   "cell_type": "code",
   "execution_count": 192,
   "id": "232cebf1",
   "metadata": {},
   "outputs": [
    {
     "data": {
      "text/plain": [
       "Index(['STATISTIC', 'Statistic Label', 'TLIST(A1)', 'Year', 'C03788V04538',\n",
       "       'County of Ownership', 'C02662V03464', 'Unladen Weight', 'C01936V02368',\n",
       "       'Year of Registration', 'UNIT', 'VALUE'],\n",
       "      dtype='object')"
      ]
     },
     "execution_count": 192,
     "metadata": {},
     "output_type": "execute_result"
    }
   ],
   "source": [
    "canada_df.columns"
   ]
  },
  {
   "cell_type": "code",
   "execution_count": 193,
   "id": "55cbaae2",
   "metadata": {},
   "outputs": [
    {
     "data": {
      "text/plain": [
       "STATISTIC                   0\n",
       "Statistic Label             0\n",
       "TLIST(A1)                   0\n",
       "Year                        0\n",
       "C03788V04538                0\n",
       "County of Ownership         0\n",
       "C02662V03464                0\n",
       "Unladen Weight              0\n",
       "C01936V02368                0\n",
       "Year of Registration        0\n",
       "UNIT                        0\n",
       "VALUE                   17577\n",
       "dtype: int64"
      ]
     },
     "execution_count": 193,
     "metadata": {},
     "output_type": "execute_result"
    }
   ],
   "source": [
    "canada_df.isnull().sum()"
   ]
  },
  {
   "cell_type": "code",
   "execution_count": 194,
   "id": "ec49c242",
   "metadata": {},
   "outputs": [
    {
     "data": {
      "text/plain": [
       "44.0"
      ]
     },
     "execution_count": 194,
     "metadata": {},
     "output_type": "execute_result"
    }
   ],
   "source": [
    "canada_df[\"VALUE\"].median()"
   ]
  },
  {
   "cell_type": "code",
   "execution_count": 195,
   "id": "44bce060",
   "metadata": {},
   "outputs": [
    {
     "data": {
      "text/plain": [
       "10060.415129979232"
      ]
     },
     "execution_count": 195,
     "metadata": {},
     "output_type": "execute_result"
    }
   ],
   "source": [
    "canada_df[\"VALUE\"].mean()"
   ]
  },
  {
   "cell_type": "code",
   "execution_count": 196,
   "id": "50789d1a",
   "metadata": {},
   "outputs": [
    {
     "data": {
      "text/plain": [
       "VALUE\n",
       "0.0        14070\n",
       "1.0         5914\n",
       "2.0         4087\n",
       "3.0         3341\n",
       "4.0         2691\n",
       "           ...  \n",
       "20337.0        1\n",
       "19285.0        1\n",
       "18321.0        1\n",
       "20594.0        1\n",
       "63454.0        1\n",
       "Name: count, Length: 23126, dtype: int64"
      ]
     },
     "execution_count": 196,
     "metadata": {},
     "output_type": "execute_result"
    }
   ],
   "source": [
    "canada_df[\"VALUE\"].value_counts()"
   ]
  },
  {
   "cell_type": "code",
   "execution_count": 197,
   "id": "fbbd3a18",
   "metadata": {},
   "outputs": [
    {
     "data": {
      "text/plain": [
       "array(['Number', 'Million', 'Kilometres'], dtype=object)"
      ]
     },
     "execution_count": 197,
     "metadata": {},
     "output_type": "execute_result"
    }
   ],
   "source": [
    "canada_df['UNIT'].unique()"
   ]
  },
  {
   "cell_type": "code",
   "execution_count": 99,
   "id": "7f1188a7",
   "metadata": {},
   "outputs": [],
   "source": [
    "canada_df['VALUE'].fillna(canada_df['VALUE'].median(), inplace=True)"
   ]
  },
  {
   "cell_type": "code",
   "execution_count": 144,
   "id": "d83f3939",
   "metadata": {},
   "outputs": [
    {
     "data": {
      "text/plain": [
       "C02584V03137        0\n",
       "Vehicle Category    0\n",
       "C01841V02268        0\n",
       "Type of Fuel        0\n",
       "TLIST(M1)           0\n",
       "Month               0\n",
       "STATISTIC           0\n",
       "Statistic Label     0\n",
       "UNIT                0\n",
       "VALUE               0\n",
       "dtype: int64"
      ]
     },
     "execution_count": 144,
     "metadata": {},
     "output_type": "execute_result"
    }
   ],
   "source": [
    "canada_df.isnull().sum()"
   ]
  },
  {
   "cell_type": "code",
   "execution_count": 200,
   "id": "f1ebe7f9",
   "metadata": {},
   "outputs": [
    {
     "data": {
      "image/png": "[encoded data removed]",
      "text/plain": [
       "<Figure size 1000x600 with 1 Axes>"
      ]
     },
     "metadata": {},
     "output_type": "display_data"
    }
   ],
   "source": [
    "import numpy as np\n",
    "import pandas as pd\n",
    "import seaborn as sns\n",
    "import matplotlib.pyplot as plt\n",
    "\n",
    "# Plot a histogram \n",
    "plt.figure(figsize=(10, 6))\n",
    "sns.histplot(canada_df['VALUE'], kde=True, color='skyblue', bins=30)  # Adjust the number of bins as needed\n",
    "plt.title('Distribution of Your Column')\n",
    "plt.xlabel('Values')\n",
    "plt.ylabel('Frequency')\n",
    "plt.show()\n"
   ]
  },
  {
   "cell_type": "markdown",
   "id": "a23b3320",
   "metadata": {},
   "source": [
    "# COMPARE IPC DE IRELAND WITH ANOTHER COUNTRY AND LOOK FOR DIFFERENCES :) !!!!THE DATASET IS GOOD !!!!! USEEEE"
   ]
  },
  {
   "cell_type": "code",
   "execution_count": 201,
   "id": "832cf062",
   "metadata": {},
   "outputs": [
    {
     "data": {
      "text/html": [
       "<div>\n",
       "<style scoped>\n",
       "    .dataframe tbody tr th:only-of-type {\n",
       "        vertical-align: middle;\n",
       "    }\n",
       "\n",
       "    .dataframe tbody tr th {\n",
       "        vertical-align: top;\n",
       "    }\n",
       "\n",
       "    .dataframe thead th {\n",
       "        text-align: right;\n",
       "    }\n",
       "</style>\n",
       "<table border=\"1\" class=\"dataframe\">\n",
       "  <thead>\n",
       "    <tr style=\"text-align: right;\">\n",
       "      <th></th>\n",
       "      <th>STATISTIC</th>\n",
       "      <th>Statistic Label</th>\n",
       "      <th>TLIST(A1)</th>\n",
       "      <th>Year</th>\n",
       "      <th>C03788V04538</th>\n",
       "      <th>County of Ownership</th>\n",
       "      <th>C02662V03464</th>\n",
       "      <th>Unladen Weight</th>\n",
       "      <th>C01936V02368</th>\n",
       "      <th>Year of Registration</th>\n",
       "      <th>UNIT</th>\n",
       "      <th>VALUE</th>\n",
       "    </tr>\n",
       "  </thead>\n",
       "  <tbody>\n",
       "    <tr>\n",
       "      <th>0</th>\n",
       "      <td>THA19C01</td>\n",
       "      <td>Vehicle Population</td>\n",
       "      <td>2015</td>\n",
       "      <td>2015</td>\n",
       "      <td>IE0</td>\n",
       "      <td>Ireland</td>\n",
       "      <td>-</td>\n",
       "      <td>All unladen weights</td>\n",
       "      <td>-</td>\n",
       "      <td>All years</td>\n",
       "      <td>Number</td>\n",
       "      <td>326277.0</td>\n",
       "    </tr>\n",
       "    <tr>\n",
       "      <th>1</th>\n",
       "      <td>THA19C01</td>\n",
       "      <td>Vehicle Population</td>\n",
       "      <td>2015</td>\n",
       "      <td>2015</td>\n",
       "      <td>IE0</td>\n",
       "      <td>Ireland</td>\n",
       "      <td>-</td>\n",
       "      <td>All unladen weights</td>\n",
       "      <td>19991</td>\n",
       "      <td>1999 or before</td>\n",
       "      <td>Number</td>\n",
       "      <td>15571.0</td>\n",
       "    </tr>\n",
       "    <tr>\n",
       "      <th>2</th>\n",
       "      <td>THA19C01</td>\n",
       "      <td>Vehicle Population</td>\n",
       "      <td>2015</td>\n",
       "      <td>2015</td>\n",
       "      <td>IE0</td>\n",
       "      <td>Ireland</td>\n",
       "      <td>-</td>\n",
       "      <td>All unladen weights</td>\n",
       "      <td>2000</td>\n",
       "      <td>2000</td>\n",
       "      <td>Number</td>\n",
       "      <td>9077.0</td>\n",
       "    </tr>\n",
       "    <tr>\n",
       "      <th>3</th>\n",
       "      <td>THA19C01</td>\n",
       "      <td>Vehicle Population</td>\n",
       "      <td>2015</td>\n",
       "      <td>2015</td>\n",
       "      <td>IE0</td>\n",
       "      <td>Ireland</td>\n",
       "      <td>-</td>\n",
       "      <td>All unladen weights</td>\n",
       "      <td>2001</td>\n",
       "      <td>2001</td>\n",
       "      <td>Number</td>\n",
       "      <td>10152.0</td>\n",
       "    </tr>\n",
       "    <tr>\n",
       "      <th>4</th>\n",
       "      <td>THA19C01</td>\n",
       "      <td>Vehicle Population</td>\n",
       "      <td>2015</td>\n",
       "      <td>2015</td>\n",
       "      <td>IE0</td>\n",
       "      <td>Ireland</td>\n",
       "      <td>-</td>\n",
       "      <td>All unladen weights</td>\n",
       "      <td>2002</td>\n",
       "      <td>2002</td>\n",
       "      <td>Number</td>\n",
       "      <td>12606.0</td>\n",
       "    </tr>\n",
       "  </tbody>\n",
       "</table>\n",
       "</div>"
      ],
      "text/plain": [
       "  STATISTIC     Statistic Label  TLIST(A1)  Year C03788V04538  \\\n",
       "0  THA19C01  Vehicle Population       2015  2015          IE0   \n",
       "1  THA19C01  Vehicle Population       2015  2015          IE0   \n",
       "2  THA19C01  Vehicle Population       2015  2015          IE0   \n",
       "3  THA19C01  Vehicle Population       2015  2015          IE0   \n",
       "4  THA19C01  Vehicle Population       2015  2015          IE0   \n",
       "\n",
       "  County of Ownership C02662V03464       Unladen Weight C01936V02368  \\\n",
       "0             Ireland            -  All unladen weights            -   \n",
       "1             Ireland            -  All unladen weights        19991   \n",
       "2             Ireland            -  All unladen weights         2000   \n",
       "3             Ireland            -  All unladen weights         2001   \n",
       "4             Ireland            -  All unladen weights         2002   \n",
       "\n",
       "  Year of Registration    UNIT     VALUE  \n",
       "0            All years  Number  326277.0  \n",
       "1       1999 or before  Number   15571.0  \n",
       "2                 2000  Number    9077.0  \n",
       "3                 2001  Number   10152.0  \n",
       "4                 2002  Number   12606.0  "
      ]
     },
     "execution_count": 201,
     "metadata": {},
     "output_type": "execute_result"
    }
   ],
   "source": [
    "canada_df.head()"
   ]
  },
  {
   "cell_type": "code",
   "execution_count": 134,
   "id": "4bb3ddee",
   "metadata": {},
   "outputs": [],
   "source": [
    "from sklearn.preprocessing import LabelEncoder\n",
    "\n",
    "label_encoder = LabelEncoder()\n",
    "canada_df['GEO'] = label_encoder.fit_transform(canada_df['GEO'])\n",
    "canada_df['DGUID'] = label_encoder.fit_transform(canada_df['DGUID'])\n",
    "canada_df['Vehicle Type'] = label_encoder.fit_transform(canada_df['Vehicle Type'])\n",
    "canada_df['Fuel Type'] = label_encoder.fit_transform(canada_df['Fuel Type'])\n",
    "canada_df['VECTOR'] = label_encoder.fit_transform(canada_df['VECTOR'])\n",
    "canada_df['COORDINATE'] = label_encoder.fit_transform(canada_df['COORDINATE'])\n"
   ]
  },
  {
   "cell_type": "code",
   "execution_count": 135,
   "id": "0a54c3d0",
   "metadata": {},
   "outputs": [
    {
     "data": {
      "text/html": [
       "<div>\n",
       "<style scoped>\n",
       "    .dataframe tbody tr th:only-of-type {\n",
       "        vertical-align: middle;\n",
       "    }\n",
       "\n",
       "    .dataframe tbody tr th {\n",
       "        vertical-align: top;\n",
       "    }\n",
       "\n",
       "    .dataframe thead th {\n",
       "        text-align: right;\n",
       "    }\n",
       "</style>\n",
       "<table border=\"1\" class=\"dataframe\">\n",
       "  <thead>\n",
       "    <tr style=\"text-align: right;\">\n",
       "      <th></th>\n",
       "      <th>REF_DATE</th>\n",
       "      <th>GEO</th>\n",
       "      <th>DGUID</th>\n",
       "      <th>Vehicle Type</th>\n",
       "      <th>Fuel Type</th>\n",
       "      <th>VECTOR</th>\n",
       "      <th>COORDINATE</th>\n",
       "      <th>VALUE</th>\n",
       "    </tr>\n",
       "  </thead>\n",
       "  <tbody>\n",
       "    <tr>\n",
       "      <th>0</th>\n",
       "      <td>2017</td>\n",
       "      <td>2</td>\n",
       "      <td>0</td>\n",
       "      <td>10</td>\n",
       "      <td>0</td>\n",
       "      <td>0</td>\n",
       "      <td>0</td>\n",
       "      <td>24618831.0</td>\n",
       "    </tr>\n",
       "    <tr>\n",
       "      <th>1</th>\n",
       "      <td>2017</td>\n",
       "      <td>2</td>\n",
       "      <td>0</td>\n",
       "      <td>10</td>\n",
       "      <td>3</td>\n",
       "      <td>1</td>\n",
       "      <td>1</td>\n",
       "      <td>22742978.0</td>\n",
       "    </tr>\n",
       "    <tr>\n",
       "      <th>2</th>\n",
       "      <td>2017</td>\n",
       "      <td>2</td>\n",
       "      <td>0</td>\n",
       "      <td>10</td>\n",
       "      <td>2</td>\n",
       "      <td>2</td>\n",
       "      <td>2</td>\n",
       "      <td>1656925.0</td>\n",
       "    </tr>\n",
       "    <tr>\n",
       "      <th>3</th>\n",
       "      <td>2017</td>\n",
       "      <td>2</td>\n",
       "      <td>0</td>\n",
       "      <td>10</td>\n",
       "      <td>1</td>\n",
       "      <td>3</td>\n",
       "      <td>3</td>\n",
       "      <td>19926.0</td>\n",
       "    </tr>\n",
       "    <tr>\n",
       "      <th>4</th>\n",
       "      <td>2017</td>\n",
       "      <td>2</td>\n",
       "      <td>0</td>\n",
       "      <td>10</td>\n",
       "      <td>4</td>\n",
       "      <td>4</td>\n",
       "      <td>4</td>\n",
       "      <td>172069.0</td>\n",
       "    </tr>\n",
       "  </tbody>\n",
       "</table>\n",
       "</div>"
      ],
      "text/plain": [
       "   REF_DATE  GEO  DGUID  Vehicle Type  Fuel Type  VECTOR  COORDINATE  \\\n",
       "0      2017    2      0            10          0       0           0   \n",
       "1      2017    2      0            10          3       1           1   \n",
       "2      2017    2      0            10          2       2           2   \n",
       "3      2017    2      0            10          1       3           3   \n",
       "4      2017    2      0            10          4       4           4   \n",
       "\n",
       "        VALUE  \n",
       "0  24618831.0  \n",
       "1  22742978.0  \n",
       "2   1656925.0  \n",
       "3     19926.0  \n",
       "4    172069.0  "
      ]
     },
     "execution_count": 135,
     "metadata": {},
     "output_type": "execute_result"
    }
   ],
   "source": [
    "canada_df.head()"
   ]
  },
  {
   "cell_type": "code",
   "execution_count": 136,
   "id": "490242cc",
   "metadata": {},
   "outputs": [
    {
     "name": "stdout",
     "output_type": "stream",
     "text": [
      "Mean Squared Error (MSE): 2523916470.223212\n",
      "R-squared (R2): 0.9982902680584194\n"
     ]
    },
    {
     "ename": "ValueError",
     "evalue": "x and y must be the same size",
     "output_type": "error",
     "traceback": [
      "\u001b[0;31m---------------------------------------------------------------------------\u001b[0m",
      "\u001b[0;31mValueError\u001b[0m                                Traceback (most recent call last)",
      "Cell \u001b[0;32mIn[136], line 30\u001b[0m\n\u001b[1;32m     27\u001b[0m \u001b[38;5;28mprint\u001b[39m(\u001b[38;5;124mf\u001b[39m\u001b[38;5;124m'\u001b[39m\u001b[38;5;124mR-squared (R2): \u001b[39m\u001b[38;5;132;01m{\u001b[39;00mr2\u001b[38;5;132;01m}\u001b[39;00m\u001b[38;5;124m'\u001b[39m)\n\u001b[1;32m     29\u001b[0m \u001b[38;5;66;03m# Plot the results\u001b[39;00m\n\u001b[0;32m---> 30\u001b[0m \u001b[43mplt\u001b[49m\u001b[38;5;241;43m.\u001b[39;49m\u001b[43mscatter\u001b[49m\u001b[43m(\u001b[49m\u001b[43mX_test\u001b[49m\u001b[43m,\u001b[49m\u001b[43m \u001b[49m\u001b[43my_test\u001b[49m\u001b[43m,\u001b[49m\u001b[43m \u001b[49m\u001b[43mcolor\u001b[49m\u001b[38;5;241;43m=\u001b[39;49m\u001b[38;5;124;43m'\u001b[39;49m\u001b[38;5;124;43mblack\u001b[39;49m\u001b[38;5;124;43m'\u001b[39;49m\u001b[43m,\u001b[49m\u001b[43m \u001b[49m\u001b[43mlabel\u001b[49m\u001b[38;5;241;43m=\u001b[39;49m\u001b[38;5;124;43m'\u001b[39;49m\u001b[38;5;124;43mActual\u001b[39;49m\u001b[38;5;124;43m'\u001b[39;49m\u001b[43m)\u001b[49m\n\u001b[1;32m     31\u001b[0m plt\u001b[38;5;241m.\u001b[39mscatter(X_test, y_pred, color\u001b[38;5;241m=\u001b[39m\u001b[38;5;124m'\u001b[39m\u001b[38;5;124mred\u001b[39m\u001b[38;5;124m'\u001b[39m, label\u001b[38;5;241m=\u001b[39m\u001b[38;5;124m'\u001b[39m\u001b[38;5;124mPredicted\u001b[39m\u001b[38;5;124m'\u001b[39m)\n\u001b[1;32m     32\u001b[0m plt\u001b[38;5;241m.\u001b[39mxlabel(\u001b[38;5;124m'\u001b[39m\u001b[38;5;124mX_test\u001b[39m\u001b[38;5;124m'\u001b[39m)\n",
      "File \u001b[0;32m~/anaconda3/envs/python_10/lib/python3.10/site-packages/matplotlib/pyplot.py:3684\u001b[0m, in \u001b[0;36mscatter\u001b[0;34m(x, y, s, c, marker, cmap, norm, vmin, vmax, alpha, linewidths, edgecolors, plotnonfinite, data, **kwargs)\u001b[0m\n\u001b[1;32m   3665\u001b[0m \u001b[38;5;129m@_copy_docstring_and_deprecators\u001b[39m(Axes\u001b[38;5;241m.\u001b[39mscatter)\n\u001b[1;32m   3666\u001b[0m \u001b[38;5;28;01mdef\u001b[39;00m \u001b[38;5;21mscatter\u001b[39m(\n\u001b[1;32m   3667\u001b[0m     x: \u001b[38;5;28mfloat\u001b[39m \u001b[38;5;241m|\u001b[39m ArrayLike,\n\u001b[0;32m   (...)\u001b[0m\n\u001b[1;32m   3682\u001b[0m     \u001b[38;5;241m*\u001b[39m\u001b[38;5;241m*\u001b[39mkwargs,\n\u001b[1;32m   3683\u001b[0m ) \u001b[38;5;241m-\u001b[39m\u001b[38;5;241m>\u001b[39m PathCollection:\n\u001b[0;32m-> 3684\u001b[0m     __ret \u001b[38;5;241m=\u001b[39m \u001b[43mgca\u001b[49m\u001b[43m(\u001b[49m\u001b[43m)\u001b[49m\u001b[38;5;241;43m.\u001b[39;49m\u001b[43mscatter\u001b[49m\u001b[43m(\u001b[49m\n\u001b[1;32m   3685\u001b[0m \u001b[43m        \u001b[49m\u001b[43mx\u001b[49m\u001b[43m,\u001b[49m\n\u001b[1;32m   3686\u001b[0m \u001b[43m        \u001b[49m\u001b[43my\u001b[49m\u001b[43m,\u001b[49m\n\u001b[1;32m   3687\u001b[0m \u001b[43m        \u001b[49m\u001b[43ms\u001b[49m\u001b[38;5;241;43m=\u001b[39;49m\u001b[43ms\u001b[49m\u001b[43m,\u001b[49m\n\u001b[1;32m   3688\u001b[0m \u001b[43m        \u001b[49m\u001b[43mc\u001b[49m\u001b[38;5;241;43m=\u001b[39;49m\u001b[43mc\u001b[49m\u001b[43m,\u001b[49m\n\u001b[1;32m   3689\u001b[0m \u001b[43m        \u001b[49m\u001b[43mmarker\u001b[49m\u001b[38;5;241;43m=\u001b[39;49m\u001b[43mmarker\u001b[49m\u001b[43m,\u001b[49m\n\u001b[1;32m   3690\u001b[0m \u001b[43m        \u001b[49m\u001b[43mcmap\u001b[49m\u001b[38;5;241;43m=\u001b[39;49m\u001b[43mcmap\u001b[49m\u001b[43m,\u001b[49m\n\u001b[1;32m   3691\u001b[0m \u001b[43m        \u001b[49m\u001b[43mnorm\u001b[49m\u001b[38;5;241;43m=\u001b[39;49m\u001b[43mnorm\u001b[49m\u001b[43m,\u001b[49m\n\u001b[1;32m   3692\u001b[0m \u001b[43m        \u001b[49m\u001b[43mvmin\u001b[49m\u001b[38;5;241;43m=\u001b[39;49m\u001b[43mvmin\u001b[49m\u001b[43m,\u001b[49m\n\u001b[1;32m   3693\u001b[0m \u001b[43m        \u001b[49m\u001b[43mvmax\u001b[49m\u001b[38;5;241;43m=\u001b[39;49m\u001b[43mvmax\u001b[49m\u001b[43m,\u001b[49m\n\u001b[1;32m   3694\u001b[0m \u001b[43m        \u001b[49m\u001b[43malpha\u001b[49m\u001b[38;5;241;43m=\u001b[39;49m\u001b[43malpha\u001b[49m\u001b[43m,\u001b[49m\n\u001b[1;32m   3695\u001b[0m \u001b[43m        \u001b[49m\u001b[43mlinewidths\u001b[49m\u001b[38;5;241;43m=\u001b[39;49m\u001b[43mlinewidths\u001b[49m\u001b[43m,\u001b[49m\n\u001b[1;32m   3696\u001b[0m \u001b[43m        \u001b[49m\u001b[43medgecolors\u001b[49m\u001b[38;5;241;43m=\u001b[39;49m\u001b[43medgecolors\u001b[49m\u001b[43m,\u001b[49m\n\u001b[1;32m   3697\u001b[0m \u001b[43m        \u001b[49m\u001b[43mplotnonfinite\u001b[49m\u001b[38;5;241;43m=\u001b[39;49m\u001b[43mplotnonfinite\u001b[49m\u001b[43m,\u001b[49m\n\u001b[1;32m   3698\u001b[0m \u001b[43m        \u001b[49m\u001b[38;5;241;43m*\u001b[39;49m\u001b[38;5;241;43m*\u001b[39;49m\u001b[43m(\u001b[49m\u001b[43m{\u001b[49m\u001b[38;5;124;43m\"\u001b[39;49m\u001b[38;5;124;43mdata\u001b[39;49m\u001b[38;5;124;43m\"\u001b[39;49m\u001b[43m:\u001b[49m\u001b[43m \u001b[49m\u001b[43mdata\u001b[49m\u001b[43m}\u001b[49m\u001b[43m \u001b[49m\u001b[38;5;28;43;01mif\u001b[39;49;00m\u001b[43m \u001b[49m\u001b[43mdata\u001b[49m\u001b[43m \u001b[49m\u001b[38;5;129;43;01mis\u001b[39;49;00m\u001b[43m \u001b[49m\u001b[38;5;129;43;01mnot\u001b[39;49;00m\u001b[43m \u001b[49m\u001b[38;5;28;43;01mNone\u001b[39;49;00m\u001b[43m \u001b[49m\u001b[38;5;28;43;01melse\u001b[39;49;00m\u001b[43m \u001b[49m\u001b[43m{\u001b[49m\u001b[43m}\u001b[49m\u001b[43m)\u001b[49m\u001b[43m,\u001b[49m\n\u001b[1;32m   3699\u001b[0m \u001b[43m        \u001b[49m\u001b[38;5;241;43m*\u001b[39;49m\u001b[38;5;241;43m*\u001b[39;49m\u001b[43mkwargs\u001b[49m\u001b[43m,\u001b[49m\n\u001b[1;32m   3700\u001b[0m \u001b[43m    \u001b[49m\u001b[43m)\u001b[49m\n\u001b[1;32m   3701\u001b[0m     sci(__ret)\n\u001b[1;32m   3702\u001b[0m     \u001b[38;5;28;01mreturn\u001b[39;00m __ret\n",
      "File \u001b[0;32m~/anaconda3/envs/python_10/lib/python3.10/site-packages/matplotlib/__init__.py:1465\u001b[0m, in \u001b[0;36m_preprocess_data.<locals>.inner\u001b[0;34m(ax, data, *args, **kwargs)\u001b[0m\n\u001b[1;32m   1462\u001b[0m \u001b[38;5;129m@functools\u001b[39m\u001b[38;5;241m.\u001b[39mwraps(func)\n\u001b[1;32m   1463\u001b[0m \u001b[38;5;28;01mdef\u001b[39;00m \u001b[38;5;21minner\u001b[39m(ax, \u001b[38;5;241m*\u001b[39margs, data\u001b[38;5;241m=\u001b[39m\u001b[38;5;28;01mNone\u001b[39;00m, \u001b[38;5;241m*\u001b[39m\u001b[38;5;241m*\u001b[39mkwargs):\n\u001b[1;32m   1464\u001b[0m     \u001b[38;5;28;01mif\u001b[39;00m data \u001b[38;5;129;01mis\u001b[39;00m \u001b[38;5;28;01mNone\u001b[39;00m:\n\u001b[0;32m-> 1465\u001b[0m         \u001b[38;5;28;01mreturn\u001b[39;00m \u001b[43mfunc\u001b[49m\u001b[43m(\u001b[49m\u001b[43max\u001b[49m\u001b[43m,\u001b[49m\u001b[43m \u001b[49m\u001b[38;5;241;43m*\u001b[39;49m\u001b[38;5;28;43mmap\u001b[39;49m\u001b[43m(\u001b[49m\u001b[43msanitize_sequence\u001b[49m\u001b[43m,\u001b[49m\u001b[43m \u001b[49m\u001b[43margs\u001b[49m\u001b[43m)\u001b[49m\u001b[43m,\u001b[49m\u001b[43m \u001b[49m\u001b[38;5;241;43m*\u001b[39;49m\u001b[38;5;241;43m*\u001b[39;49m\u001b[43mkwargs\u001b[49m\u001b[43m)\u001b[49m\n\u001b[1;32m   1467\u001b[0m     bound \u001b[38;5;241m=\u001b[39m new_sig\u001b[38;5;241m.\u001b[39mbind(ax, \u001b[38;5;241m*\u001b[39margs, \u001b[38;5;241m*\u001b[39m\u001b[38;5;241m*\u001b[39mkwargs)\n\u001b[1;32m   1468\u001b[0m     auto_label \u001b[38;5;241m=\u001b[39m (bound\u001b[38;5;241m.\u001b[39marguments\u001b[38;5;241m.\u001b[39mget(label_namer)\n\u001b[1;32m   1469\u001b[0m                   \u001b[38;5;129;01mor\u001b[39;00m bound\u001b[38;5;241m.\u001b[39mkwargs\u001b[38;5;241m.\u001b[39mget(label_namer))\n",
      "File \u001b[0;32m~/anaconda3/envs/python_10/lib/python3.10/site-packages/matplotlib/axes/_axes.py:4652\u001b[0m, in \u001b[0;36mAxes.scatter\u001b[0;34m(self, x, y, s, c, marker, cmap, norm, vmin, vmax, alpha, linewidths, edgecolors, plotnonfinite, **kwargs)\u001b[0m\n\u001b[1;32m   4650\u001b[0m y \u001b[38;5;241m=\u001b[39m np\u001b[38;5;241m.\u001b[39mma\u001b[38;5;241m.\u001b[39mravel(y)\n\u001b[1;32m   4651\u001b[0m \u001b[38;5;28;01mif\u001b[39;00m x\u001b[38;5;241m.\u001b[39msize \u001b[38;5;241m!=\u001b[39m y\u001b[38;5;241m.\u001b[39msize:\n\u001b[0;32m-> 4652\u001b[0m     \u001b[38;5;28;01mraise\u001b[39;00m \u001b[38;5;167;01mValueError\u001b[39;00m(\u001b[38;5;124m\"\u001b[39m\u001b[38;5;124mx and y must be the same size\u001b[39m\u001b[38;5;124m\"\u001b[39m)\n\u001b[1;32m   4654\u001b[0m \u001b[38;5;28;01mif\u001b[39;00m s \u001b[38;5;129;01mis\u001b[39;00m \u001b[38;5;28;01mNone\u001b[39;00m:\n\u001b[1;32m   4655\u001b[0m     s \u001b[38;5;241m=\u001b[39m (\u001b[38;5;241m20\u001b[39m \u001b[38;5;28;01mif\u001b[39;00m mpl\u001b[38;5;241m.\u001b[39mrcParams[\u001b[38;5;124m'\u001b[39m\u001b[38;5;124m_internal.classic_mode\u001b[39m\u001b[38;5;124m'\u001b[39m] \u001b[38;5;28;01melse\u001b[39;00m\n\u001b[1;32m   4656\u001b[0m          mpl\u001b[38;5;241m.\u001b[39mrcParams[\u001b[38;5;124m'\u001b[39m\u001b[38;5;124mlines.markersize\u001b[39m\u001b[38;5;124m'\u001b[39m] \u001b[38;5;241m*\u001b[39m\u001b[38;5;241m*\u001b[39m \u001b[38;5;241m2.0\u001b[39m)\n",
      "\u001b[0;31mValueError\u001b[0m: x and y must be the same size"
     ]
    },
    {
     "data": {
      "image/png": "[encoded data removed]",
      "text/plain": [
       "<Figure size 640x480 with 1 Axes>"
      ]
     },
     "metadata": {},
     "output_type": "display_data"
    }
   ],
   "source": [
    "from sklearn.model_selection import train_test_split\n",
    "from sklearn.ensemble import RandomForestRegressor\n",
    "from sklearn.metrics import mean_squared_error, r2_score\n",
    "\n",
    "# Create a sample dataset\n",
    "np.random.seed(42)\n",
    "X = canada_df.drop(['VALUE'], axis=1)\n",
    "y = canada_df['VALUE']\n",
    "\n",
    "# Split the data into training and testing sets\n",
    "X_train, X_test, y_train, y_test = train_test_split(X, y, test_size=0.2, random_state=42)\n",
    "\n",
    "# Initialize the Random Forest Regressor\n",
    "rf_regressor = RandomForestRegressor(n_estimators=100, random_state=42)\n",
    "\n",
    "# Train the model on the training data\n",
    "rf_regressor.fit(X_train, y_train)\n",
    "\n",
    "# Make predictions on the test set\n",
    "y_pred = rf_regressor.predict(X_test)\n",
    "\n",
    "# Evaluate the model\n",
    "mse = mean_squared_error(y_test, y_pred)\n",
    "r2 = r2_score(y_test, y_pred)\n",
    "\n",
    "print(f'Mean Squared Error (MSE): {mse}')\n",
    "print(f'R-squared (R2): {r2}')\n",
    "\n",
    "# Plot the results\n",
    "plt.scatter(X_test, y_test, color='black', label='Actual')\n",
    "plt.scatter(X_test, y_pred, color='red', label='Predicted')\n",
    "plt.xlabel('X_test')\n",
    "plt.ylabel('y')\n",
    "plt.title('Random Forest Regression Example')\n",
    "plt.legend()\n",
    "plt.show()"
   ]
  },
  {
   "cell_type": "code",
   "execution_count": null,
   "id": "e55a624d",
   "metadata": {},
   "outputs": [],
   "source": []
  }
 ],
 "metadata": {
  "kernelspec": {
   "display_name": "Python 3 (ipykernel)",
   "language": "python",
   "name": "python3"
  },
  "language_info": {
   "codemirror_mode": {
    "name": "ipython",
    "version": 3
   },
   "file_extension": ".py",
   "mimetype": "text/x-python",
   "name": "python",
   "nbconvert_exporter": "python",
   "pygments_lexer": "ipython3",
   "version": "3.10.13"
  }
 },
 "nbformat": 4,
 "nbformat_minor": 5
}
