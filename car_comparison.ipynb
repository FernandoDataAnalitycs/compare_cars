{
 "cells": [
  {
   "cell_type": "code",
   "execution_count": 66,
   "id": "eb83243a",
   "metadata": {},
   "outputs": [],
   "source": [
    "import pandas as pd\n",
    "import numpy as np\n",
    "import matplotlib.pyplot as plt"
   ]
  },
  {
   "cell_type": "code",
   "execution_count": 67,
   "id": "6e511c2c",
   "metadata": {},
   "outputs": [],
   "source": [
    "#car_df = pd.read_csv('TEM03_vehicles_reg_first_time.csv') vehicle_registration_canada"
   ]
  },
  {
   "cell_type": "code",
   "execution_count": 68,
   "id": "ab3bedcd",
   "metadata": {},
   "outputs": [],
   "source": [
    "canada_df = pd.read_csv('THA19_vehicles_road_traffic.csv')# vehicle_registration_ireland"
   ]
  },
  {
   "cell_type": "code",
   "execution_count": 69,
   "id": "96424857",
   "metadata": {
    "scrolled": true
   },
   "outputs": [
    {
     "data": {
      "text/html": [
       "<div>\n",
       "<style scoped>\n",
       "    .dataframe tbody tr th:only-of-type {\n",
       "        vertical-align: middle;\n",
       "    }\n",
       "\n",
       "    .dataframe tbody tr th {\n",
       "        vertical-align: top;\n",
       "    }\n",
       "\n",
       "    .dataframe thead th {\n",
       "        text-align: right;\n",
       "    }\n",
       "</style>\n",
       "<table border=\"1\" class=\"dataframe\">\n",
       "  <thead>\n",
       "    <tr style=\"text-align: right;\">\n",
       "      <th></th>\n",
       "      <th>STATISTIC</th>\n",
       "      <th>Statistic Label</th>\n",
       "      <th>TLIST(A1)</th>\n",
       "      <th>Year</th>\n",
       "      <th>C03788V04538</th>\n",
       "      <th>County of Ownership</th>\n",
       "      <th>C02662V03464</th>\n",
       "      <th>Unladen Weight</th>\n",
       "      <th>C01936V02368</th>\n",
       "      <th>Year of Registration</th>\n",
       "      <th>UNIT</th>\n",
       "      <th>VALUE</th>\n",
       "    </tr>\n",
       "  </thead>\n",
       "  <tbody>\n",
       "    <tr>\n",
       "      <th>113395</th>\n",
       "      <td>THA19C03</td>\n",
       "      <td>Average Kilometres Travelled</td>\n",
       "      <td>2022</td>\n",
       "      <td>2022</td>\n",
       "      <td>2ae19629-1445-13a3-e055-000000000001</td>\n",
       "      <td>Co. Monaghan</td>\n",
       "      <td>6</td>\n",
       "      <td>Over 12.5 tonnes</td>\n",
       "      <td>2018</td>\n",
       "      <td>2018</td>\n",
       "      <td>Kilometres</td>\n",
       "      <td>61770.0</td>\n",
       "    </tr>\n",
       "    <tr>\n",
       "      <th>113396</th>\n",
       "      <td>THA19C03</td>\n",
       "      <td>Average Kilometres Travelled</td>\n",
       "      <td>2022</td>\n",
       "      <td>2022</td>\n",
       "      <td>2ae19629-1445-13a3-e055-000000000001</td>\n",
       "      <td>Co. Monaghan</td>\n",
       "      <td>6</td>\n",
       "      <td>Over 12.5 tonnes</td>\n",
       "      <td>2019</td>\n",
       "      <td>2019</td>\n",
       "      <td>Kilometres</td>\n",
       "      <td>65642.0</td>\n",
       "    </tr>\n",
       "    <tr>\n",
       "      <th>113397</th>\n",
       "      <td>THA19C03</td>\n",
       "      <td>Average Kilometres Travelled</td>\n",
       "      <td>2022</td>\n",
       "      <td>2022</td>\n",
       "      <td>2ae19629-1445-13a3-e055-000000000001</td>\n",
       "      <td>Co. Monaghan</td>\n",
       "      <td>6</td>\n",
       "      <td>Over 12.5 tonnes</td>\n",
       "      <td>2020</td>\n",
       "      <td>2020</td>\n",
       "      <td>Kilometres</td>\n",
       "      <td>62422.0</td>\n",
       "    </tr>\n",
       "    <tr>\n",
       "      <th>113398</th>\n",
       "      <td>THA19C03</td>\n",
       "      <td>Average Kilometres Travelled</td>\n",
       "      <td>2022</td>\n",
       "      <td>2022</td>\n",
       "      <td>2ae19629-1445-13a3-e055-000000000001</td>\n",
       "      <td>Co. Monaghan</td>\n",
       "      <td>6</td>\n",
       "      <td>Over 12.5 tonnes</td>\n",
       "      <td>2021</td>\n",
       "      <td>2021</td>\n",
       "      <td>Kilometres</td>\n",
       "      <td>62075.0</td>\n",
       "    </tr>\n",
       "    <tr>\n",
       "      <th>113399</th>\n",
       "      <td>THA19C03</td>\n",
       "      <td>Average Kilometres Travelled</td>\n",
       "      <td>2022</td>\n",
       "      <td>2022</td>\n",
       "      <td>2ae19629-1445-13a3-e055-000000000001</td>\n",
       "      <td>Co. Monaghan</td>\n",
       "      <td>6</td>\n",
       "      <td>Over 12.5 tonnes</td>\n",
       "      <td>2022</td>\n",
       "      <td>2022</td>\n",
       "      <td>Kilometres</td>\n",
       "      <td>63454.0</td>\n",
       "    </tr>\n",
       "  </tbody>\n",
       "</table>\n",
       "</div>"
      ],
      "text/plain": [
       "       STATISTIC               Statistic Label  TLIST(A1)  Year  \\\n",
       "113395  THA19C03  Average Kilometres Travelled       2022  2022   \n",
       "113396  THA19C03  Average Kilometres Travelled       2022  2022   \n",
       "113397  THA19C03  Average Kilometres Travelled       2022  2022   \n",
       "113398  THA19C03  Average Kilometres Travelled       2022  2022   \n",
       "113399  THA19C03  Average Kilometres Travelled       2022  2022   \n",
       "\n",
       "                                C03788V04538 County of Ownership C02662V03464  \\\n",
       "113395  2ae19629-1445-13a3-e055-000000000001        Co. Monaghan            6   \n",
       "113396  2ae19629-1445-13a3-e055-000000000001        Co. Monaghan            6   \n",
       "113397  2ae19629-1445-13a3-e055-000000000001        Co. Monaghan            6   \n",
       "113398  2ae19629-1445-13a3-e055-000000000001        Co. Monaghan            6   \n",
       "113399  2ae19629-1445-13a3-e055-000000000001        Co. Monaghan            6   \n",
       "\n",
       "          Unladen Weight C01936V02368 Year of Registration        UNIT  \\\n",
       "113395  Over 12.5 tonnes         2018                 2018  Kilometres   \n",
       "113396  Over 12.5 tonnes         2019                 2019  Kilometres   \n",
       "113397  Over 12.5 tonnes         2020                 2020  Kilometres   \n",
       "113398  Over 12.5 tonnes         2021                 2021  Kilometres   \n",
       "113399  Over 12.5 tonnes         2022                 2022  Kilometres   \n",
       "\n",
       "          VALUE  \n",
       "113395  61770.0  \n",
       "113396  65642.0  \n",
       "113397  62422.0  \n",
       "113398  62075.0  \n",
       "113399  63454.0  "
      ]
     },
     "execution_count": 69,
     "metadata": {},
     "output_type": "execute_result"
    }
   ],
   "source": [
    "canada_df.tail()"
   ]
  },
  {
   "cell_type": "code",
   "execution_count": 70,
   "id": "28f56d5f",
   "metadata": {},
   "outputs": [
    {
     "data": {
      "text/plain": [
       "(113400, 12)"
      ]
     },
     "execution_count": 70,
     "metadata": {},
     "output_type": "execute_result"
    }
   ],
   "source": [
    "canada_df.shape"
   ]
  },
  {
   "cell_type": "code",
   "execution_count": 71,
   "id": "232cebf1",
   "metadata": {},
   "outputs": [
    {
     "data": {
      "text/plain": [
       "Index(['STATISTIC', 'Statistic Label', 'TLIST(A1)', 'Year', 'C03788V04538',\n",
       "       'County of Ownership', 'C02662V03464', 'Unladen Weight', 'C01936V02368',\n",
       "       'Year of Registration', 'UNIT', 'VALUE'],\n",
       "      dtype='object')"
      ]
     },
     "execution_count": 71,
     "metadata": {},
     "output_type": "execute_result"
    }
   ],
   "source": [
    "canada_df.columns"
   ]
  },
  {
   "cell_type": "code",
   "execution_count": 72,
   "id": "55cbaae2",
   "metadata": {},
   "outputs": [
    {
     "data": {
      "text/plain": [
       "STATISTIC                   0\n",
       "Statistic Label             0\n",
       "TLIST(A1)                   0\n",
       "Year                        0\n",
       "C03788V04538                0\n",
       "County of Ownership         0\n",
       "C02662V03464                0\n",
       "Unladen Weight              0\n",
       "C01936V02368                0\n",
       "Year of Registration        0\n",
       "UNIT                        0\n",
       "VALUE                   17577\n",
       "dtype: int64"
      ]
     },
     "execution_count": 72,
     "metadata": {},
     "output_type": "execute_result"
    }
   ],
   "source": [
    "canada_df.isnull().sum()"
   ]
  },
  {
   "cell_type": "code",
   "execution_count": 73,
   "id": "ec49c242",
   "metadata": {},
   "outputs": [
    {
     "data": {
      "text/plain": [
       "44.0"
      ]
     },
     "execution_count": 73,
     "metadata": {},
     "output_type": "execute_result"
    }
   ],
   "source": [
    "canada_df[\"VALUE\"].median()"
   ]
  },
  {
   "cell_type": "code",
   "execution_count": 74,
   "id": "44bce060",
   "metadata": {},
   "outputs": [
    {
     "data": {
      "text/plain": [
       "10060.415129979232"
      ]
     },
     "execution_count": 74,
     "metadata": {},
     "output_type": "execute_result"
    }
   ],
   "source": [
    "canada_df[\"VALUE\"].mean()"
   ]
  },
  {
   "cell_type": "code",
   "execution_count": 75,
   "id": "50789d1a",
   "metadata": {},
   "outputs": [
    {
     "data": {
      "text/plain": [
       "VALUE\n",
       "0.0        14070\n",
       "1.0         5914\n",
       "2.0         4087\n",
       "3.0         3341\n",
       "4.0         2691\n",
       "           ...  \n",
       "20337.0        1\n",
       "19285.0        1\n",
       "18321.0        1\n",
       "20594.0        1\n",
       "63454.0        1\n",
       "Name: count, Length: 23126, dtype: int64"
      ]
     },
     "execution_count": 75,
     "metadata": {},
     "output_type": "execute_result"
    }
   ],
   "source": [
    "canada_df[\"VALUE\"].value_counts()"
   ]
  },
  {
   "cell_type": "code",
   "execution_count": 76,
   "id": "fbbd3a18",
   "metadata": {},
   "outputs": [
    {
     "data": {
      "text/plain": [
       "array(['Number', 'Million', 'Kilometres'], dtype=object)"
      ]
     },
     "execution_count": 76,
     "metadata": {},
     "output_type": "execute_result"
    }
   ],
   "source": [
    "canada_df['UNIT'].unique()"
   ]
  },
  {
   "cell_type": "code",
   "execution_count": 77,
   "id": "c5b7242a",
   "metadata": {},
   "outputs": [],
   "source": [
    "canada_df.dropna(subset=['VALUE'], inplace=True) "
   ]
  },
  {
   "cell_type": "code",
   "execution_count": 78,
   "id": "d83f3939",
   "metadata": {},
   "outputs": [
    {
     "data": {
      "text/plain": [
       "STATISTIC               0\n",
       "Statistic Label         0\n",
       "TLIST(A1)               0\n",
       "Year                    0\n",
       "C03788V04538            0\n",
       "County of Ownership     0\n",
       "C02662V03464            0\n",
       "Unladen Weight          0\n",
       "C01936V02368            0\n",
       "Year of Registration    0\n",
       "UNIT                    0\n",
       "VALUE                   0\n",
       "dtype: int64"
      ]
     },
     "execution_count": 78,
     "metadata": {},
     "output_type": "execute_result"
    }
   ],
   "source": [
    "canada_df.isnull().sum()"
   ]
  },
  {
   "cell_type": "code",
   "execution_count": 80,
   "id": "f1ebe7f9",
   "metadata": {},
   "outputs": [
    {
     "data": {
      "image/png": "[encoded data removed]",
      "text/plain": [
       "<Figure size 1000x600 with 1 Axes>"
      ]
     },
     "metadata": {},
     "output_type": "display_data"
    }
   ],
   "source": [
    "import numpy as np\n",
    "import pandas as pd\n",
    "import seaborn as sns\n",
    "import matplotlib.pyplot as plt\n",
    "\n",
    "# Plot a histogram \n",
    "plt.figure(figsize=(10, 6))\n",
    "sns.histplot(canada_df['VALUE'], kde=True, color='skyblue', bins=30)\n",
    "plt.xlabel('Values')\n",
    "plt.ylabel('Frequency')\n",
    "plt.show()\n"
   ]
  },
  {
   "cell_type": "code",
   "execution_count": 81,
   "id": "f6cdca34",
   "metadata": {},
   "outputs": [
    {
     "data": {
      "text/plain": [
       "array(['Number', 'Million', 'Kilometres'], dtype=object)"
      ]
     },
     "execution_count": 81,
     "metadata": {},
     "output_type": "execute_result"
    }
   ],
   "source": [
    "canada_df[\"UNIT\"].unique()"
   ]
  },
  {
   "cell_type": "markdown",
   "id": "4967b3e1",
   "metadata": {},
   "source": [
    "## extracting part of number of good vehicles\n"
   ]
  },
  {
   "cell_type": "code",
   "execution_count": 82,
   "id": "832cf062",
   "metadata": {},
   "outputs": [],
   "source": [
    "number_part_df = canada_df[canada_df.apply(lambda row: row['UNIT'] == \"Number\", axis=1)]"
   ]
  },
  {
   "cell_type": "code",
   "execution_count": 83,
   "id": "83851a12",
   "metadata": {},
   "outputs": [
    {
     "data": {
      "text/plain": [
       "array([2015, 2016, 2017, 2018, 2019, 2020, 2021, 2022])"
      ]
     },
     "execution_count": 83,
     "metadata": {},
     "output_type": "execute_result"
    }
   ],
   "source": [
    "number_part_df['Year'].unique()"
   ]
  },
  {
   "cell_type": "code",
   "execution_count": 84,
   "id": "be99429d",
   "metadata": {},
   "outputs": [
    {
     "data": {
      "text/plain": [
       "array([2015, 2016, 2017, 2018, 2019, 2020, 2021, 2022])"
      ]
     },
     "execution_count": 84,
     "metadata": {},
     "output_type": "execute_result"
    }
   ],
   "source": [
    "number_part_df['TLIST(A1)'].unique()"
   ]
  },
  {
   "cell_type": "code",
   "execution_count": 85,
   "id": "7e44ccf4",
   "metadata": {},
   "outputs": [
    {
     "data": {
      "text/plain": [
       "array(['Number'], dtype=object)"
      ]
     },
     "execution_count": 85,
     "metadata": {},
     "output_type": "execute_result"
    }
   ],
   "source": [
    "number_part_df['UNIT'].unique()"
   ]
  },
  {
   "cell_type": "code",
   "execution_count": 86,
   "id": "a457355f",
   "metadata": {},
   "outputs": [
    {
     "data": {
      "text/html": [
       "<div>\n",
       "<style scoped>\n",
       "    .dataframe tbody tr th:only-of-type {\n",
       "        vertical-align: middle;\n",
       "    }\n",
       "\n",
       "    .dataframe tbody tr th {\n",
       "        vertical-align: top;\n",
       "    }\n",
       "\n",
       "    .dataframe thead th {\n",
       "        text-align: right;\n",
       "    }\n",
       "</style>\n",
       "<table border=\"1\" class=\"dataframe\">\n",
       "  <thead>\n",
       "    <tr style=\"text-align: right;\">\n",
       "      <th></th>\n",
       "      <th>STATISTIC</th>\n",
       "      <th>Statistic Label</th>\n",
       "      <th>TLIST(A1)</th>\n",
       "      <th>Year</th>\n",
       "      <th>C03788V04538</th>\n",
       "      <th>County of Ownership</th>\n",
       "      <th>C02662V03464</th>\n",
       "      <th>Unladen Weight</th>\n",
       "      <th>C01936V02368</th>\n",
       "      <th>Year of Registration</th>\n",
       "      <th>UNIT</th>\n",
       "      <th>VALUE</th>\n",
       "    </tr>\n",
       "  </thead>\n",
       "  <tbody>\n",
       "    <tr>\n",
       "      <th>0</th>\n",
       "      <td>THA19C01</td>\n",
       "      <td>Vehicle Population</td>\n",
       "      <td>2015</td>\n",
       "      <td>2015</td>\n",
       "      <td>IE0</td>\n",
       "      <td>Ireland</td>\n",
       "      <td>-</td>\n",
       "      <td>All unladen weights</td>\n",
       "      <td>-</td>\n",
       "      <td>All years</td>\n",
       "      <td>Number</td>\n",
       "      <td>326277.0</td>\n",
       "    </tr>\n",
       "    <tr>\n",
       "      <th>1</th>\n",
       "      <td>THA19C01</td>\n",
       "      <td>Vehicle Population</td>\n",
       "      <td>2015</td>\n",
       "      <td>2015</td>\n",
       "      <td>IE0</td>\n",
       "      <td>Ireland</td>\n",
       "      <td>-</td>\n",
       "      <td>All unladen weights</td>\n",
       "      <td>19991</td>\n",
       "      <td>1999 or before</td>\n",
       "      <td>Number</td>\n",
       "      <td>15571.0</td>\n",
       "    </tr>\n",
       "    <tr>\n",
       "      <th>2</th>\n",
       "      <td>THA19C01</td>\n",
       "      <td>Vehicle Population</td>\n",
       "      <td>2015</td>\n",
       "      <td>2015</td>\n",
       "      <td>IE0</td>\n",
       "      <td>Ireland</td>\n",
       "      <td>-</td>\n",
       "      <td>All unladen weights</td>\n",
       "      <td>2000</td>\n",
       "      <td>2000</td>\n",
       "      <td>Number</td>\n",
       "      <td>9077.0</td>\n",
       "    </tr>\n",
       "    <tr>\n",
       "      <th>3</th>\n",
       "      <td>THA19C01</td>\n",
       "      <td>Vehicle Population</td>\n",
       "      <td>2015</td>\n",
       "      <td>2015</td>\n",
       "      <td>IE0</td>\n",
       "      <td>Ireland</td>\n",
       "      <td>-</td>\n",
       "      <td>All unladen weights</td>\n",
       "      <td>2001</td>\n",
       "      <td>2001</td>\n",
       "      <td>Number</td>\n",
       "      <td>10152.0</td>\n",
       "    </tr>\n",
       "    <tr>\n",
       "      <th>4</th>\n",
       "      <td>THA19C01</td>\n",
       "      <td>Vehicle Population</td>\n",
       "      <td>2015</td>\n",
       "      <td>2015</td>\n",
       "      <td>IE0</td>\n",
       "      <td>Ireland</td>\n",
       "      <td>-</td>\n",
       "      <td>All unladen weights</td>\n",
       "      <td>2002</td>\n",
       "      <td>2002</td>\n",
       "      <td>Number</td>\n",
       "      <td>12606.0</td>\n",
       "    </tr>\n",
       "  </tbody>\n",
       "</table>\n",
       "</div>"
      ],
      "text/plain": [
       "  STATISTIC     Statistic Label  TLIST(A1)  Year C03788V04538  \\\n",
       "0  THA19C01  Vehicle Population       2015  2015          IE0   \n",
       "1  THA19C01  Vehicle Population       2015  2015          IE0   \n",
       "2  THA19C01  Vehicle Population       2015  2015          IE0   \n",
       "3  THA19C01  Vehicle Population       2015  2015          IE0   \n",
       "4  THA19C01  Vehicle Population       2015  2015          IE0   \n",
       "\n",
       "  County of Ownership C02662V03464       Unladen Weight C01936V02368  \\\n",
       "0             Ireland            -  All unladen weights            -   \n",
       "1             Ireland            -  All unladen weights        19991   \n",
       "2             Ireland            -  All unladen weights         2000   \n",
       "3             Ireland            -  All unladen weights         2001   \n",
       "4             Ireland            -  All unladen weights         2002   \n",
       "\n",
       "  Year of Registration    UNIT     VALUE  \n",
       "0            All years  Number  326277.0  \n",
       "1       1999 or before  Number   15571.0  \n",
       "2                 2000  Number    9077.0  \n",
       "3                 2001  Number   10152.0  \n",
       "4                 2002  Number   12606.0  "
      ]
     },
     "execution_count": 86,
     "metadata": {},
     "output_type": "execute_result"
    }
   ],
   "source": [
    "number_part_df.head()"
   ]
  },
  {
   "cell_type": "code",
   "execution_count": 96,
   "id": "f823fb9f",
   "metadata": {},
   "outputs": [
    {
     "data": {
      "text/plain": [
       "array(['Number'], dtype=object)"
      ]
     },
     "execution_count": 96,
     "metadata": {},
     "output_type": "execute_result"
    }
   ],
   "source": [
    "number_part_df[\"UNIT\"].unique()"
   ]
  },
  {
   "cell_type": "markdown",
   "id": "ea7b5cce",
   "metadata": {},
   "source": [
    "## delete STATISTIC\tStatistic Label\tTLIST(A1) UNIT"
   ]
  },
  {
   "cell_type": "code",
   "execution_count": 97,
   "id": "e15ed675",
   "metadata": {},
   "outputs": [
    {
     "name": "stderr",
     "output_type": "stream",
     "text": [
      "/var/folders/13/lflfr2vd5yx56dpdvjrmqhbw0000gn/T/ipykernel_15554/1398125851.py:1: SettingWithCopyWarning: \n",
      "A value is trying to be set on a copy of a slice from a DataFrame\n",
      "\n",
      "See the caveats in the documentation: https://pandas.pydata.org/pandas-docs/stable/user_guide/indexing.html#returning-a-view-versus-a-copy\n",
      "  number_part_df.drop(columns=[\"STATISTIC\",\"Statistic Label\",\"TLIST(A1)\",\"UNIT\"], inplace=True)\n"
     ]
    }
   ],
   "source": [
    "number_part_df.drop(columns=[\"STATISTIC\",\"Statistic Label\",\"TLIST(A1)\",\"UNIT\"], inplace=True)"
   ]
  },
  {
   "cell_type": "code",
   "execution_count": 98,
   "id": "d06eef6b",
   "metadata": {},
   "outputs": [
    {
     "data": {
      "text/html": [
       "<div>\n",
       "<style scoped>\n",
       "    .dataframe tbody tr th:only-of-type {\n",
       "        vertical-align: middle;\n",
       "    }\n",
       "\n",
       "    .dataframe tbody tr th {\n",
       "        vertical-align: top;\n",
       "    }\n",
       "\n",
       "    .dataframe thead th {\n",
       "        text-align: right;\n",
       "    }\n",
       "</style>\n",
       "<table border=\"1\" class=\"dataframe\">\n",
       "  <thead>\n",
       "    <tr style=\"text-align: right;\">\n",
       "      <th></th>\n",
       "      <th>Year</th>\n",
       "      <th>C03788V04538</th>\n",
       "      <th>County of Ownership</th>\n",
       "      <th>C02662V03464</th>\n",
       "      <th>Unladen Weight</th>\n",
       "      <th>C01936V02368</th>\n",
       "      <th>Year of Registration</th>\n",
       "      <th>VALUE</th>\n",
       "    </tr>\n",
       "  </thead>\n",
       "  <tbody>\n",
       "    <tr>\n",
       "      <th>0</th>\n",
       "      <td>2015</td>\n",
       "      <td>IE0</td>\n",
       "      <td>Ireland</td>\n",
       "      <td>-</td>\n",
       "      <td>All unladen weights</td>\n",
       "      <td>-</td>\n",
       "      <td>All years</td>\n",
       "      <td>326277.0</td>\n",
       "    </tr>\n",
       "    <tr>\n",
       "      <th>1</th>\n",
       "      <td>2015</td>\n",
       "      <td>IE0</td>\n",
       "      <td>Ireland</td>\n",
       "      <td>-</td>\n",
       "      <td>All unladen weights</td>\n",
       "      <td>19991</td>\n",
       "      <td>1999 or before</td>\n",
       "      <td>15571.0</td>\n",
       "    </tr>\n",
       "    <tr>\n",
       "      <th>2</th>\n",
       "      <td>2015</td>\n",
       "      <td>IE0</td>\n",
       "      <td>Ireland</td>\n",
       "      <td>-</td>\n",
       "      <td>All unladen weights</td>\n",
       "      <td>2000</td>\n",
       "      <td>2000</td>\n",
       "      <td>9077.0</td>\n",
       "    </tr>\n",
       "    <tr>\n",
       "      <th>3</th>\n",
       "      <td>2015</td>\n",
       "      <td>IE0</td>\n",
       "      <td>Ireland</td>\n",
       "      <td>-</td>\n",
       "      <td>All unladen weights</td>\n",
       "      <td>2001</td>\n",
       "      <td>2001</td>\n",
       "      <td>10152.0</td>\n",
       "    </tr>\n",
       "    <tr>\n",
       "      <th>4</th>\n",
       "      <td>2015</td>\n",
       "      <td>IE0</td>\n",
       "      <td>Ireland</td>\n",
       "      <td>-</td>\n",
       "      <td>All unladen weights</td>\n",
       "      <td>2002</td>\n",
       "      <td>2002</td>\n",
       "      <td>12606.0</td>\n",
       "    </tr>\n",
       "  </tbody>\n",
       "</table>\n",
       "</div>"
      ],
      "text/plain": [
       "   Year C03788V04538 County of Ownership C02662V03464       Unladen Weight  \\\n",
       "0  2015          IE0             Ireland            -  All unladen weights   \n",
       "1  2015          IE0             Ireland            -  All unladen weights   \n",
       "2  2015          IE0             Ireland            -  All unladen weights   \n",
       "3  2015          IE0             Ireland            -  All unladen weights   \n",
       "4  2015          IE0             Ireland            -  All unladen weights   \n",
       "\n",
       "  C01936V02368 Year of Registration     VALUE  \n",
       "0            -            All years  326277.0  \n",
       "1        19991       1999 or before   15571.0  \n",
       "2         2000                 2000    9077.0  \n",
       "3         2001                 2001   10152.0  \n",
       "4         2002                 2002   12606.0  "
      ]
     },
     "execution_count": 98,
     "metadata": {},
     "output_type": "execute_result"
    }
   ],
   "source": [
    "# after deleting columns \n",
    "number_part_df.head()"
   ]
  },
  {
   "cell_type": "code",
   "execution_count": 99,
   "id": "4bb3ddee",
   "metadata": {},
   "outputs": [
    {
     "name": "stderr",
     "output_type": "stream",
     "text": [
      "/var/folders/13/lflfr2vd5yx56dpdvjrmqhbw0000gn/T/ipykernel_15554/3135522540.py:4: SettingWithCopyWarning: \n",
      "A value is trying to be set on a copy of a slice from a DataFrame.\n",
      "Try using .loc[row_indexer,col_indexer] = value instead\n",
      "\n",
      "See the caveats in the documentation: https://pandas.pydata.org/pandas-docs/stable/user_guide/indexing.html#returning-a-view-versus-a-copy\n",
      "  number_part_df['C03788V04538'] = label_encoder.fit_transform(number_part_df['C03788V04538'])\n",
      "/var/folders/13/lflfr2vd5yx56dpdvjrmqhbw0000gn/T/ipykernel_15554/3135522540.py:5: SettingWithCopyWarning: \n",
      "A value is trying to be set on a copy of a slice from a DataFrame.\n",
      "Try using .loc[row_indexer,col_indexer] = value instead\n",
      "\n",
      "See the caveats in the documentation: https://pandas.pydata.org/pandas-docs/stable/user_guide/indexing.html#returning-a-view-versus-a-copy\n",
      "  number_part_df['County of Ownership'] = label_encoder.fit_transform(number_part_df['County of Ownership'])\n",
      "/var/folders/13/lflfr2vd5yx56dpdvjrmqhbw0000gn/T/ipykernel_15554/3135522540.py:6: SettingWithCopyWarning: \n",
      "A value is trying to be set on a copy of a slice from a DataFrame.\n",
      "Try using .loc[row_indexer,col_indexer] = value instead\n",
      "\n",
      "See the caveats in the documentation: https://pandas.pydata.org/pandas-docs/stable/user_guide/indexing.html#returning-a-view-versus-a-copy\n",
      "  number_part_df['C02662V03464'] = label_encoder.fit_transform(number_part_df['C02662V03464'])\n",
      "/var/folders/13/lflfr2vd5yx56dpdvjrmqhbw0000gn/T/ipykernel_15554/3135522540.py:7: SettingWithCopyWarning: \n",
      "A value is trying to be set on a copy of a slice from a DataFrame.\n",
      "Try using .loc[row_indexer,col_indexer] = value instead\n",
      "\n",
      "See the caveats in the documentation: https://pandas.pydata.org/pandas-docs/stable/user_guide/indexing.html#returning-a-view-versus-a-copy\n",
      "  number_part_df['Unladen Weight'] = label_encoder.fit_transform(number_part_df['Unladen Weight'])\n",
      "/var/folders/13/lflfr2vd5yx56dpdvjrmqhbw0000gn/T/ipykernel_15554/3135522540.py:8: SettingWithCopyWarning: \n",
      "A value is trying to be set on a copy of a slice from a DataFrame.\n",
      "Try using .loc[row_indexer,col_indexer] = value instead\n",
      "\n",
      "See the caveats in the documentation: https://pandas.pydata.org/pandas-docs/stable/user_guide/indexing.html#returning-a-view-versus-a-copy\n",
      "  number_part_df['C01936V02368'] = label_encoder.fit_transform(number_part_df['C01936V02368'])\n",
      "/var/folders/13/lflfr2vd5yx56dpdvjrmqhbw0000gn/T/ipykernel_15554/3135522540.py:9: SettingWithCopyWarning: \n",
      "A value is trying to be set on a copy of a slice from a DataFrame.\n",
      "Try using .loc[row_indexer,col_indexer] = value instead\n",
      "\n",
      "See the caveats in the documentation: https://pandas.pydata.org/pandas-docs/stable/user_guide/indexing.html#returning-a-view-versus-a-copy\n",
      "  number_part_df['Year of Registration'] = label_encoder.fit_transform(number_part_df['Year of Registration'])\n"
     ]
    }
   ],
   "source": [
    "from sklearn.preprocessing import LabelEncoder\n",
    "\n",
    "label_encoder = LabelEncoder()\n",
    "number_part_df['C03788V04538'] = label_encoder.fit_transform(number_part_df['C03788V04538'])\n",
    "number_part_df['County of Ownership'] = label_encoder.fit_transform(number_part_df['County of Ownership'])\n",
    "number_part_df['C02662V03464'] = label_encoder.fit_transform(number_part_df['C02662V03464'])\n",
    "number_part_df['Unladen Weight'] = label_encoder.fit_transform(number_part_df['Unladen Weight'])\n",
    "number_part_df['C01936V02368'] = label_encoder.fit_transform(number_part_df['C01936V02368'])\n",
    "number_part_df['Year of Registration'] = label_encoder.fit_transform(number_part_df['Year of Registration'])\n"
   ]
  },
  {
   "cell_type": "code",
   "execution_count": 100,
   "id": "0a54c3d0",
   "metadata": {},
   "outputs": [
    {
     "data": {
      "text/html": [
       "<div>\n",
       "<style scoped>\n",
       "    .dataframe tbody tr th:only-of-type {\n",
       "        vertical-align: middle;\n",
       "    }\n",
       "\n",
       "    .dataframe tbody tr th {\n",
       "        vertical-align: top;\n",
       "    }\n",
       "\n",
       "    .dataframe thead th {\n",
       "        text-align: right;\n",
       "    }\n",
       "</style>\n",
       "<table border=\"1\" class=\"dataframe\">\n",
       "  <thead>\n",
       "    <tr style=\"text-align: right;\">\n",
       "      <th></th>\n",
       "      <th>Year</th>\n",
       "      <th>C03788V04538</th>\n",
       "      <th>County of Ownership</th>\n",
       "      <th>C02662V03464</th>\n",
       "      <th>Unladen Weight</th>\n",
       "      <th>C01936V02368</th>\n",
       "      <th>Year of Registration</th>\n",
       "      <th>VALUE</th>\n",
       "    </tr>\n",
       "  </thead>\n",
       "  <tbody>\n",
       "    <tr>\n",
       "      <th>0</th>\n",
       "      <td>2015</td>\n",
       "      <td>26</td>\n",
       "      <td>26</td>\n",
       "      <td>0</td>\n",
       "      <td>5</td>\n",
       "      <td>0</td>\n",
       "      <td>24</td>\n",
       "      <td>326277.0</td>\n",
       "    </tr>\n",
       "    <tr>\n",
       "      <th>1</th>\n",
       "      <td>2015</td>\n",
       "      <td>26</td>\n",
       "      <td>26</td>\n",
       "      <td>0</td>\n",
       "      <td>5</td>\n",
       "      <td>1</td>\n",
       "      <td>0</td>\n",
       "      <td>15571.0</td>\n",
       "    </tr>\n",
       "    <tr>\n",
       "      <th>2</th>\n",
       "      <td>2015</td>\n",
       "      <td>26</td>\n",
       "      <td>26</td>\n",
       "      <td>0</td>\n",
       "      <td>5</td>\n",
       "      <td>2</td>\n",
       "      <td>1</td>\n",
       "      <td>9077.0</td>\n",
       "    </tr>\n",
       "    <tr>\n",
       "      <th>3</th>\n",
       "      <td>2015</td>\n",
       "      <td>26</td>\n",
       "      <td>26</td>\n",
       "      <td>0</td>\n",
       "      <td>5</td>\n",
       "      <td>3</td>\n",
       "      <td>2</td>\n",
       "      <td>10152.0</td>\n",
       "    </tr>\n",
       "    <tr>\n",
       "      <th>4</th>\n",
       "      <td>2015</td>\n",
       "      <td>26</td>\n",
       "      <td>26</td>\n",
       "      <td>0</td>\n",
       "      <td>5</td>\n",
       "      <td>4</td>\n",
       "      <td>3</td>\n",
       "      <td>12606.0</td>\n",
       "    </tr>\n",
       "  </tbody>\n",
       "</table>\n",
       "</div>"
      ],
      "text/plain": [
       "   Year  C03788V04538  County of Ownership  C02662V03464  Unladen Weight  \\\n",
       "0  2015            26                   26             0               5   \n",
       "1  2015            26                   26             0               5   \n",
       "2  2015            26                   26             0               5   \n",
       "3  2015            26                   26             0               5   \n",
       "4  2015            26                   26             0               5   \n",
       "\n",
       "   C01936V02368  Year of Registration     VALUE  \n",
       "0             0                    24  326277.0  \n",
       "1             1                     0   15571.0  \n",
       "2             2                     1    9077.0  \n",
       "3             3                     2   10152.0  \n",
       "4             4                     3   12606.0  "
      ]
     },
     "execution_count": 100,
     "metadata": {},
     "output_type": "execute_result"
    }
   ],
   "source": [
    "number_part_df.head()"
   ]
  },
  {
   "cell_type": "code",
   "execution_count": 101,
   "id": "490242cc",
   "metadata": {},
   "outputs": [
    {
     "name": "stdout",
     "output_type": "stream",
     "text": [
      "Mean Squared Error (MSE): 229383.93032765703\n",
      "R-squared (R2): 0.9968686045048497\n"
     ]
    },
    {
     "ename": "ValueError",
     "evalue": "x and y must be the same size",
     "output_type": "error",
     "traceback": [
      "\u001b[0;31m---------------------------------------------------------------------------\u001b[0m",
      "\u001b[0;31mValueError\u001b[0m                                Traceback (most recent call last)",
      "Cell \u001b[0;32mIn[101], line 30\u001b[0m\n\u001b[1;32m     27\u001b[0m \u001b[38;5;28mprint\u001b[39m(\u001b[38;5;124mf\u001b[39m\u001b[38;5;124m'\u001b[39m\u001b[38;5;124mR-squared (R2): \u001b[39m\u001b[38;5;132;01m{\u001b[39;00mr2\u001b[38;5;132;01m}\u001b[39;00m\u001b[38;5;124m'\u001b[39m)\n\u001b[1;32m     29\u001b[0m \u001b[38;5;66;03m# Plot the results\u001b[39;00m\n\u001b[0;32m---> 30\u001b[0m \u001b[43mplt\u001b[49m\u001b[38;5;241;43m.\u001b[39;49m\u001b[43mscatter\u001b[49m\u001b[43m(\u001b[49m\u001b[43mX_test\u001b[49m\u001b[43m,\u001b[49m\u001b[43m \u001b[49m\u001b[43my_test\u001b[49m\u001b[43m,\u001b[49m\u001b[43m \u001b[49m\u001b[43mcolor\u001b[49m\u001b[38;5;241;43m=\u001b[39;49m\u001b[38;5;124;43m'\u001b[39;49m\u001b[38;5;124;43mblack\u001b[39;49m\u001b[38;5;124;43m'\u001b[39;49m\u001b[43m,\u001b[49m\u001b[43m \u001b[49m\u001b[43mlabel\u001b[49m\u001b[38;5;241;43m=\u001b[39;49m\u001b[38;5;124;43m'\u001b[39;49m\u001b[38;5;124;43mActual\u001b[39;49m\u001b[38;5;124;43m'\u001b[39;49m\u001b[43m)\u001b[49m\n\u001b[1;32m     31\u001b[0m plt\u001b[38;5;241m.\u001b[39mscatter(X_test, y_pred, color\u001b[38;5;241m=\u001b[39m\u001b[38;5;124m'\u001b[39m\u001b[38;5;124mred\u001b[39m\u001b[38;5;124m'\u001b[39m, label\u001b[38;5;241m=\u001b[39m\u001b[38;5;124m'\u001b[39m\u001b[38;5;124mPredicted\u001b[39m\u001b[38;5;124m'\u001b[39m)\n\u001b[1;32m     32\u001b[0m plt\u001b[38;5;241m.\u001b[39mxlabel(\u001b[38;5;124m'\u001b[39m\u001b[38;5;124mX_test\u001b[39m\u001b[38;5;124m'\u001b[39m)\n",
      "File \u001b[0;32m~/anaconda3/envs/python_10/lib/python3.10/site-packages/matplotlib/pyplot.py:3684\u001b[0m, in \u001b[0;36mscatter\u001b[0;34m(x, y, s, c, marker, cmap, norm, vmin, vmax, alpha, linewidths, edgecolors, plotnonfinite, data, **kwargs)\u001b[0m\n\u001b[1;32m   3665\u001b[0m \u001b[38;5;129m@_copy_docstring_and_deprecators\u001b[39m(Axes\u001b[38;5;241m.\u001b[39mscatter)\n\u001b[1;32m   3666\u001b[0m \u001b[38;5;28;01mdef\u001b[39;00m \u001b[38;5;21mscatter\u001b[39m(\n\u001b[1;32m   3667\u001b[0m     x: \u001b[38;5;28mfloat\u001b[39m \u001b[38;5;241m|\u001b[39m ArrayLike,\n\u001b[0;32m   (...)\u001b[0m\n\u001b[1;32m   3682\u001b[0m     \u001b[38;5;241m*\u001b[39m\u001b[38;5;241m*\u001b[39mkwargs,\n\u001b[1;32m   3683\u001b[0m ) \u001b[38;5;241m-\u001b[39m\u001b[38;5;241m>\u001b[39m PathCollection:\n\u001b[0;32m-> 3684\u001b[0m     __ret \u001b[38;5;241m=\u001b[39m \u001b[43mgca\u001b[49m\u001b[43m(\u001b[49m\u001b[43m)\u001b[49m\u001b[38;5;241;43m.\u001b[39;49m\u001b[43mscatter\u001b[49m\u001b[43m(\u001b[49m\n\u001b[1;32m   3685\u001b[0m \u001b[43m        \u001b[49m\u001b[43mx\u001b[49m\u001b[43m,\u001b[49m\n\u001b[1;32m   3686\u001b[0m \u001b[43m        \u001b[49m\u001b[43my\u001b[49m\u001b[43m,\u001b[49m\n\u001b[1;32m   3687\u001b[0m \u001b[43m        \u001b[49m\u001b[43ms\u001b[49m\u001b[38;5;241;43m=\u001b[39;49m\u001b[43ms\u001b[49m\u001b[43m,\u001b[49m\n\u001b[1;32m   3688\u001b[0m \u001b[43m        \u001b[49m\u001b[43mc\u001b[49m\u001b[38;5;241;43m=\u001b[39;49m\u001b[43mc\u001b[49m\u001b[43m,\u001b[49m\n\u001b[1;32m   3689\u001b[0m \u001b[43m        \u001b[49m\u001b[43mmarker\u001b[49m\u001b[38;5;241;43m=\u001b[39;49m\u001b[43mmarker\u001b[49m\u001b[43m,\u001b[49m\n\u001b[1;32m   3690\u001b[0m \u001b[43m        \u001b[49m\u001b[43mcmap\u001b[49m\u001b[38;5;241;43m=\u001b[39;49m\u001b[43mcmap\u001b[49m\u001b[43m,\u001b[49m\n\u001b[1;32m   3691\u001b[0m \u001b[43m        \u001b[49m\u001b[43mnorm\u001b[49m\u001b[38;5;241;43m=\u001b[39;49m\u001b[43mnorm\u001b[49m\u001b[43m,\u001b[49m\n\u001b[1;32m   3692\u001b[0m \u001b[43m        \u001b[49m\u001b[43mvmin\u001b[49m\u001b[38;5;241;43m=\u001b[39;49m\u001b[43mvmin\u001b[49m\u001b[43m,\u001b[49m\n\u001b[1;32m   3693\u001b[0m \u001b[43m        \u001b[49m\u001b[43mvmax\u001b[49m\u001b[38;5;241;43m=\u001b[39;49m\u001b[43mvmax\u001b[49m\u001b[43m,\u001b[49m\n\u001b[1;32m   3694\u001b[0m \u001b[43m        \u001b[49m\u001b[43malpha\u001b[49m\u001b[38;5;241;43m=\u001b[39;49m\u001b[43malpha\u001b[49m\u001b[43m,\u001b[49m\n\u001b[1;32m   3695\u001b[0m \u001b[43m        \u001b[49m\u001b[43mlinewidths\u001b[49m\u001b[38;5;241;43m=\u001b[39;49m\u001b[43mlinewidths\u001b[49m\u001b[43m,\u001b[49m\n\u001b[1;32m   3696\u001b[0m \u001b[43m        \u001b[49m\u001b[43medgecolors\u001b[49m\u001b[38;5;241;43m=\u001b[39;49m\u001b[43medgecolors\u001b[49m\u001b[43m,\u001b[49m\n\u001b[1;32m   3697\u001b[0m \u001b[43m        \u001b[49m\u001b[43mplotnonfinite\u001b[49m\u001b[38;5;241;43m=\u001b[39;49m\u001b[43mplotnonfinite\u001b[49m\u001b[43m,\u001b[49m\n\u001b[1;32m   3698\u001b[0m \u001b[43m        \u001b[49m\u001b[38;5;241;43m*\u001b[39;49m\u001b[38;5;241;43m*\u001b[39;49m\u001b[43m(\u001b[49m\u001b[43m{\u001b[49m\u001b[38;5;124;43m\"\u001b[39;49m\u001b[38;5;124;43mdata\u001b[39;49m\u001b[38;5;124;43m\"\u001b[39;49m\u001b[43m:\u001b[49m\u001b[43m \u001b[49m\u001b[43mdata\u001b[49m\u001b[43m}\u001b[49m\u001b[43m \u001b[49m\u001b[38;5;28;43;01mif\u001b[39;49;00m\u001b[43m \u001b[49m\u001b[43mdata\u001b[49m\u001b[43m \u001b[49m\u001b[38;5;129;43;01mis\u001b[39;49;00m\u001b[43m \u001b[49m\u001b[38;5;129;43;01mnot\u001b[39;49;00m\u001b[43m \u001b[49m\u001b[38;5;28;43;01mNone\u001b[39;49;00m\u001b[43m \u001b[49m\u001b[38;5;28;43;01melse\u001b[39;49;00m\u001b[43m \u001b[49m\u001b[43m{\u001b[49m\u001b[43m}\u001b[49m\u001b[43m)\u001b[49m\u001b[43m,\u001b[49m\n\u001b[1;32m   3699\u001b[0m \u001b[43m        \u001b[49m\u001b[38;5;241;43m*\u001b[39;49m\u001b[38;5;241;43m*\u001b[39;49m\u001b[43mkwargs\u001b[49m\u001b[43m,\u001b[49m\n\u001b[1;32m   3700\u001b[0m \u001b[43m    \u001b[49m\u001b[43m)\u001b[49m\n\u001b[1;32m   3701\u001b[0m     sci(__ret)\n\u001b[1;32m   3702\u001b[0m     \u001b[38;5;28;01mreturn\u001b[39;00m __ret\n",
      "File \u001b[0;32m~/anaconda3/envs/python_10/lib/python3.10/site-packages/matplotlib/__init__.py:1465\u001b[0m, in \u001b[0;36m_preprocess_data.<locals>.inner\u001b[0;34m(ax, data, *args, **kwargs)\u001b[0m\n\u001b[1;32m   1462\u001b[0m \u001b[38;5;129m@functools\u001b[39m\u001b[38;5;241m.\u001b[39mwraps(func)\n\u001b[1;32m   1463\u001b[0m \u001b[38;5;28;01mdef\u001b[39;00m \u001b[38;5;21minner\u001b[39m(ax, \u001b[38;5;241m*\u001b[39margs, data\u001b[38;5;241m=\u001b[39m\u001b[38;5;28;01mNone\u001b[39;00m, \u001b[38;5;241m*\u001b[39m\u001b[38;5;241m*\u001b[39mkwargs):\n\u001b[1;32m   1464\u001b[0m     \u001b[38;5;28;01mif\u001b[39;00m data \u001b[38;5;129;01mis\u001b[39;00m \u001b[38;5;28;01mNone\u001b[39;00m:\n\u001b[0;32m-> 1465\u001b[0m         \u001b[38;5;28;01mreturn\u001b[39;00m \u001b[43mfunc\u001b[49m\u001b[43m(\u001b[49m\u001b[43max\u001b[49m\u001b[43m,\u001b[49m\u001b[43m \u001b[49m\u001b[38;5;241;43m*\u001b[39;49m\u001b[38;5;28;43mmap\u001b[39;49m\u001b[43m(\u001b[49m\u001b[43msanitize_sequence\u001b[49m\u001b[43m,\u001b[49m\u001b[43m \u001b[49m\u001b[43margs\u001b[49m\u001b[43m)\u001b[49m\u001b[43m,\u001b[49m\u001b[43m \u001b[49m\u001b[38;5;241;43m*\u001b[39;49m\u001b[38;5;241;43m*\u001b[39;49m\u001b[43mkwargs\u001b[49m\u001b[43m)\u001b[49m\n\u001b[1;32m   1467\u001b[0m     bound \u001b[38;5;241m=\u001b[39m new_sig\u001b[38;5;241m.\u001b[39mbind(ax, \u001b[38;5;241m*\u001b[39margs, \u001b[38;5;241m*\u001b[39m\u001b[38;5;241m*\u001b[39mkwargs)\n\u001b[1;32m   1468\u001b[0m     auto_label \u001b[38;5;241m=\u001b[39m (bound\u001b[38;5;241m.\u001b[39marguments\u001b[38;5;241m.\u001b[39mget(label_namer)\n\u001b[1;32m   1469\u001b[0m                   \u001b[38;5;129;01mor\u001b[39;00m bound\u001b[38;5;241m.\u001b[39mkwargs\u001b[38;5;241m.\u001b[39mget(label_namer))\n",
      "File \u001b[0;32m~/anaconda3/envs/python_10/lib/python3.10/site-packages/matplotlib/axes/_axes.py:4652\u001b[0m, in \u001b[0;36mAxes.scatter\u001b[0;34m(self, x, y, s, c, marker, cmap, norm, vmin, vmax, alpha, linewidths, edgecolors, plotnonfinite, **kwargs)\u001b[0m\n\u001b[1;32m   4650\u001b[0m y \u001b[38;5;241m=\u001b[39m np\u001b[38;5;241m.\u001b[39mma\u001b[38;5;241m.\u001b[39mravel(y)\n\u001b[1;32m   4651\u001b[0m \u001b[38;5;28;01mif\u001b[39;00m x\u001b[38;5;241m.\u001b[39msize \u001b[38;5;241m!=\u001b[39m y\u001b[38;5;241m.\u001b[39msize:\n\u001b[0;32m-> 4652\u001b[0m     \u001b[38;5;28;01mraise\u001b[39;00m \u001b[38;5;167;01mValueError\u001b[39;00m(\u001b[38;5;124m\"\u001b[39m\u001b[38;5;124mx and y must be the same size\u001b[39m\u001b[38;5;124m\"\u001b[39m)\n\u001b[1;32m   4654\u001b[0m \u001b[38;5;28;01mif\u001b[39;00m s \u001b[38;5;129;01mis\u001b[39;00m \u001b[38;5;28;01mNone\u001b[39;00m:\n\u001b[1;32m   4655\u001b[0m     s \u001b[38;5;241m=\u001b[39m (\u001b[38;5;241m20\u001b[39m \u001b[38;5;28;01mif\u001b[39;00m mpl\u001b[38;5;241m.\u001b[39mrcParams[\u001b[38;5;124m'\u001b[39m\u001b[38;5;124m_internal.classic_mode\u001b[39m\u001b[38;5;124m'\u001b[39m] \u001b[38;5;28;01melse\u001b[39;00m\n\u001b[1;32m   4656\u001b[0m          mpl\u001b[38;5;241m.\u001b[39mrcParams[\u001b[38;5;124m'\u001b[39m\u001b[38;5;124mlines.markersize\u001b[39m\u001b[38;5;124m'\u001b[39m] \u001b[38;5;241m*\u001b[39m\u001b[38;5;241m*\u001b[39m \u001b[38;5;241m2.0\u001b[39m)\n",
      "\u001b[0;31mValueError\u001b[0m: x and y must be the same size"
     ]
    },
    {
     "data": {
      "image/png": "[encoded data removed]",
      "text/plain": [
       "<Figure size 640x480 with 1 Axes>"
      ]
     },
     "metadata": {},
     "output_type": "display_data"
    }
   ],
   "source": [
    "from sklearn.model_selection import train_test_split\n",
    "from sklearn.ensemble import RandomForestRegressor\n",
    "from sklearn.metrics import mean_squared_error, r2_score\n",
    "\n",
    "# Create a sample dataset\n",
    "np.random.seed(42)\n",
    "X = number_part_df.drop(['VALUE'], axis=1)\n",
    "y = number_part_df['VALUE']\n",
    "\n",
    "# Split the data into training and testing sets\n",
    "X_train, X_test, y_train, y_test = train_test_split(X, y, test_size=0.2, random_state=42)\n",
    "\n",
    "# Initialize the Random Forest Regressor\n",
    "rf_regressor = RandomForestRegressor(n_estimators=100, random_state=42)\n",
    "\n",
    "# Train the model on the training data\n",
    "rf_regressor.fit(X_train, y_train)\n",
    "\n",
    "# Make predictions on the test set\n",
    "y_pred = rf_regressor.predict(X_test)\n",
    "\n",
    "# Evaluate the model\n",
    "mse = mean_squared_error(y_test, y_pred)\n",
    "r2 = r2_score(y_test, y_pred)\n",
    "\n",
    "print(f'Mean Squared Error (MSE): {mse}')\n",
    "print(f'R-squared (R2): {r2}')\n",
    "\n",
    "# Plot the results\n",
    "plt.scatter(X_test, y_test, color='black', label='Actual')\n",
    "plt.scatter(X_test, y_pred, color='red', label='Predicted')\n",
    "plt.xlabel('X_test')\n",
    "plt.ylabel('y')\n",
    "plt.title('Random Forest Regression Example')\n",
    "plt.legend()\n",
    "plt.show()"
   ]
  },
  {
   "cell_type": "code",
   "execution_count": null,
   "id": "e55a624d",
   "metadata": {},
   "outputs": [],
   "source": []
  }
 ],
 "metadata": {
  "kernelspec": {
   "display_name": "Python 3 (ipykernel)",
   "language": "python",
   "name": "python3"
  },
  "language_info": {
   "codemirror_mode": {
    "name": "ipython",
    "version": 3
   },
   "file_extension": ".py",
   "mimetype": "text/x-python",
   "name": "python",
   "nbconvert_exporter": "python",
   "pygments_lexer": "ipython3",
   "version": "3.10.13"
  }
 },
 "nbformat": 4,
 "nbformat_minor": 5
}
